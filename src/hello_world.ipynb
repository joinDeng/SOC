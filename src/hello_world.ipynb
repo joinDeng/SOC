{
 "cells": [
  {
   "cell_type": "code",
   "id": "initial_id",
   "metadata": {
    "collapsed": true,
    "ExecuteTime": {
     "end_time": "2025-09-10T08:40:40.341334Z",
     "start_time": "2025-09-10T08:40:34.068124Z"
    }
   },
   "source": [
    "import os\n",
    "cmd = \"python D:\\\\app\\\\program\\\\Python\\\\Pycharm\\\\project\\\\SOC\\\\src\\\\txt_to_hdf5.py --root=D:\\\\app\\\\program\\\\Python\\\\Pycharm\\\\project\\\\SOC\\\\data --out=D:\\\\app\\\\program\\\\Python\\\\Pycharm\\\\project\\\\SOC\\\\dataset\\\\space.h5\"\n",
    "val = os.system(cmd)\n",
    "print(\"[INFO]: 程序运行：\", val)\n"
   ],
   "outputs": [
    {
     "name": "stdout",
     "output_type": "stream",
     "text": [
      "[INFO]: 程序运行： 0\n"
     ]
    }
   ],
   "execution_count": 26
  }
 ],
 "metadata": {
  "kernelspec": {
   "display_name": "Python 3",
   "language": "python",
   "name": "python3"
  },
  "language_info": {
   "codemirror_mode": {
    "name": "ipython",
    "version": 2
   },
   "file_extension": ".py",
   "mimetype": "text/x-python",
   "name": "python",
   "nbconvert_exporter": "python",
   "pygments_lexer": "ipython2",
   "version": "2.7.6"
  }
 },
 "nbformat": 4,
 "nbformat_minor": 5
}
